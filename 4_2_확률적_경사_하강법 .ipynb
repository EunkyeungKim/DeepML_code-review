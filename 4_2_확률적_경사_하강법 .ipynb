{
 "cells": [
  {
   "cell_type": "markdown",
   "metadata": {
    "id": "L5ALSPQSJp-n"
   },
   "source": [
    "# 확률적 경사 하강법"
   ]
  },
  {
   "cell_type": "markdown",
   "metadata": {
    "id": "hnCwTs5KJp-t"
   },
   "source": [
    "<table align=\"left\">\n",
    "  <td>\n",
    "    <a target=\"_blank\" href=\"https://colab.research.google.com/github/rickiepark/hg-mldl/blob/master/4-2.ipynb\"><img src=\"https://www.tensorflow.org/images/colab_logo_32px.png\" />구글 코랩에서 실행하기</a>\n",
    "  </td>\n",
    "</table>"
   ]
  },
  {
   "cell_type": "markdown",
   "metadata": {
    "id": "3x4OwaSIR50l"
   },
   "source": [
    "## SGDClassifier"
   ]
  },
  {
   "cell_type": "code",
   "execution_count": 2,
   "metadata": {
    "id": "j3z-zKXoRmWB"
   },
   "outputs": [],
   "source": [
    "import pandas as pd\n",
    "\n",
    "fish = pd.read_csv('https://bit.ly/fish_csv_data') # pandas 로 csv 파일을 불러와서 fish에 저장"
   ]
  },
  {
   "cell_type": "code",
   "execution_count": 3,
   "metadata": {},
   "outputs": [
    {
     "data": {
      "text/html": [
       "<div>\n",
       "<style scoped>\n",
       "    .dataframe tbody tr th:only-of-type {\n",
       "        vertical-align: middle;\n",
       "    }\n",
       "\n",
       "    .dataframe tbody tr th {\n",
       "        vertical-align: top;\n",
       "    }\n",
       "\n",
       "    .dataframe thead th {\n",
       "        text-align: right;\n",
       "    }\n",
       "</style>\n",
       "<table border=\"1\" class=\"dataframe\">\n",
       "  <thead>\n",
       "    <tr style=\"text-align: right;\">\n",
       "      <th></th>\n",
       "      <th>Species</th>\n",
       "      <th>Weight</th>\n",
       "      <th>Length</th>\n",
       "      <th>Diagonal</th>\n",
       "      <th>Height</th>\n",
       "      <th>Width</th>\n",
       "    </tr>\n",
       "  </thead>\n",
       "  <tbody>\n",
       "    <tr>\n",
       "      <th>0</th>\n",
       "      <td>Bream</td>\n",
       "      <td>242.0</td>\n",
       "      <td>25.4</td>\n",
       "      <td>30.0</td>\n",
       "      <td>11.5200</td>\n",
       "      <td>4.0200</td>\n",
       "    </tr>\n",
       "    <tr>\n",
       "      <th>1</th>\n",
       "      <td>Bream</td>\n",
       "      <td>290.0</td>\n",
       "      <td>26.3</td>\n",
       "      <td>31.2</td>\n",
       "      <td>12.4800</td>\n",
       "      <td>4.3056</td>\n",
       "    </tr>\n",
       "    <tr>\n",
       "      <th>2</th>\n",
       "      <td>Bream</td>\n",
       "      <td>340.0</td>\n",
       "      <td>26.5</td>\n",
       "      <td>31.1</td>\n",
       "      <td>12.3778</td>\n",
       "      <td>4.6961</td>\n",
       "    </tr>\n",
       "    <tr>\n",
       "      <th>3</th>\n",
       "      <td>Bream</td>\n",
       "      <td>363.0</td>\n",
       "      <td>29.0</td>\n",
       "      <td>33.5</td>\n",
       "      <td>12.7300</td>\n",
       "      <td>4.4555</td>\n",
       "    </tr>\n",
       "    <tr>\n",
       "      <th>4</th>\n",
       "      <td>Bream</td>\n",
       "      <td>430.0</td>\n",
       "      <td>29.0</td>\n",
       "      <td>34.0</td>\n",
       "      <td>12.4440</td>\n",
       "      <td>5.1340</td>\n",
       "    </tr>\n",
       "    <tr>\n",
       "      <th>5</th>\n",
       "      <td>Bream</td>\n",
       "      <td>450.0</td>\n",
       "      <td>29.7</td>\n",
       "      <td>34.7</td>\n",
       "      <td>13.6024</td>\n",
       "      <td>4.9274</td>\n",
       "    </tr>\n",
       "    <tr>\n",
       "      <th>6</th>\n",
       "      <td>Bream</td>\n",
       "      <td>500.0</td>\n",
       "      <td>29.7</td>\n",
       "      <td>34.5</td>\n",
       "      <td>14.1795</td>\n",
       "      <td>5.2785</td>\n",
       "    </tr>\n",
       "    <tr>\n",
       "      <th>7</th>\n",
       "      <td>Bream</td>\n",
       "      <td>390.0</td>\n",
       "      <td>30.0</td>\n",
       "      <td>35.0</td>\n",
       "      <td>12.6700</td>\n",
       "      <td>4.6900</td>\n",
       "    </tr>\n",
       "    <tr>\n",
       "      <th>8</th>\n",
       "      <td>Bream</td>\n",
       "      <td>450.0</td>\n",
       "      <td>30.0</td>\n",
       "      <td>35.1</td>\n",
       "      <td>14.0049</td>\n",
       "      <td>4.8438</td>\n",
       "    </tr>\n",
       "    <tr>\n",
       "      <th>9</th>\n",
       "      <td>Bream</td>\n",
       "      <td>500.0</td>\n",
       "      <td>30.7</td>\n",
       "      <td>36.2</td>\n",
       "      <td>14.2266</td>\n",
       "      <td>4.9594</td>\n",
       "    </tr>\n",
       "  </tbody>\n",
       "</table>\n",
       "</div>"
      ],
      "text/plain": [
       "  Species  Weight  Length  Diagonal   Height   Width\n",
       "0   Bream   242.0    25.4      30.0  11.5200  4.0200\n",
       "1   Bream   290.0    26.3      31.2  12.4800  4.3056\n",
       "2   Bream   340.0    26.5      31.1  12.3778  4.6961\n",
       "3   Bream   363.0    29.0      33.5  12.7300  4.4555\n",
       "4   Bream   430.0    29.0      34.0  12.4440  5.1340\n",
       "5   Bream   450.0    29.7      34.7  13.6024  4.9274\n",
       "6   Bream   500.0    29.7      34.5  14.1795  5.2785\n",
       "7   Bream   390.0    30.0      35.0  12.6700  4.6900\n",
       "8   Bream   450.0    30.0      35.1  14.0049  4.8438\n",
       "9   Bream   500.0    30.7      36.2  14.2266  4.9594"
      ]
     },
     "execution_count": 3,
     "metadata": {},
     "output_type": "execute_result"
    }
   ],
   "source": [
    "# .head를() 사용하여 지정한 수 만큼 데이터를 확인할 수 있다. 기본값은 5\n",
    "fish.head(10)"
   ]
  },
  {
   "cell_type": "code",
   "execution_count": 3,
   "metadata": {
    "id": "WAiJVY9nR1fF"
   },
   "outputs": [],
   "source": [
    "# 2차원 리스트 형태로 물고기 특성값을 fish_input에 저장한다. 특징을 2개 이상 가져올 경우 대괄호를 2개 붙여준다\n",
    "fish_input = fish[['Weight','Length','Diagonal','Height','Width']].to_numpy()\n",
    "# to_numpy() 사용하여 numpy 배열 반환\n",
    "fish_target = fish['Species'].to_numpy()"
   ]
  },
  {
   "cell_type": "code",
   "execution_count": 4,
   "metadata": {
    "id": "AW6LMW_URpto"
   },
   "outputs": [],
   "source": [
    "# sklearn 에서 train_test_split 임포트 적정 비율로 훈련셋과 target을 나눠준다. 자동으로 섞어줌\n",
    "from sklearn.model_selection import train_test_split\n",
    "\n",
    "train_input, test_input, train_target, test_target = train_test_split(\n",
    "    fish_input, fish_target, random_state=42)"
   ]
  },
  {
   "cell_type": "code",
   "execution_count": 5,
   "metadata": {
    "id": "1RTAwK_DRutj"
   },
   "outputs": [],
   "source": [
    "# StandardScaler임포트\n",
    "from sklearn.preprocessing import StandardScaler\n",
    "\n",
    "ss = StandardScaler()\n",
    "ss.fit(train_input)  # 모델 학습 시키기\n",
    "train_scaled = ss.transform(train_input) # . transform() 사용하여 데이터를 표준화 한다\n",
    "test_scaled = ss.transform(test_input)  # 훈련 셋 테스트 셋 모두 변환해야 함"
   ]
  },
  {
   "cell_type": "code",
   "execution_count": 6,
   "metadata": {
    "id": "FSyujXY7sli6"
   },
   "outputs": [],
   "source": [
    "# SGDClassifier는 사이킷런에서 확률적 경사 하강법을 제공하는 대표적인 분류용 케이스\n",
    "from sklearn.linear_model import SGDClassifier  "
   ]
  },
  {
   "cell_type": "code",
   "execution_count": 7,
   "metadata": {
    "colab": {
     "base_uri": "https://localhost:8080/"
    },
    "id": "KofoXhbwR9yu",
    "outputId": "d8526e9d-5cb5-44d1-fb35-e7c1ac63c41f"
   },
   "outputs": [
    {
     "name": "stdout",
     "output_type": "stream",
     "text": [
      "0.773109243697479\n",
      "0.775\n"
     ]
    },
    {
     "name": "stderr",
     "output_type": "stream",
     "text": [
      "/usr/local/lib/python3.7/dist-packages/sklearn/linear_model/_stochastic_gradient.py:700: ConvergenceWarning: Maximum number of iteration reached before convergence. Consider increasing max_iter to improve the fit.\n",
      "  ConvergenceWarning,\n"
     ]
    }
   ],
   "source": [
    "sc = SGDClassifier(loss='log', max_iter=10, random_state=42) # loss='log로 지정하여 로지스틱 손실 함수로 지정\n",
    "sc.fit(train_scaled, train_target)                           # max_iter=10는 수행할 에포크 횟수를 10으로 지정                       \n",
    "print(sc.score(train_scaled, train_target))  # 훈련세트와 테스트 세트 정확도 점수 출력\n",
    "print(sc.score(test_scaled, test_target))"
   ]
  },
  {
   "cell_type": "code",
   "execution_count": null,
   "metadata": {
    "id": "fIObJn7QYyMi"
   },
   "outputs": [],
   "source": [
    "# ConvergenceWarning 경고가 나오므로 max_inter 매개변수 값을 늘려주도록 하겠다."
   ]
  },
  {
   "cell_type": "code",
   "execution_count": 8,
   "metadata": {
    "colab": {
     "base_uri": "https://localhost:8080/"
    },
    "id": "1-MS7ZJuZGXt",
    "outputId": "47403ed0-f472-4944-b0b6-d5e46c894a60"
   },
   "outputs": [
    {
     "name": "stdout",
     "output_type": "stream",
     "text": [
      "0.8319327731092437\n",
      "0.775\n"
     ]
    }
   ],
   "source": [
    "sc = SGDClassifier(loss='log', max_iter=50, random_state=42) \n",
    "sc.fit(train_scaled, train_target)                                                \n",
    "print(sc.score(train_scaled, train_target))  \n",
    "print(sc.score(test_scaled, test_target))"
   ]
  },
  {
   "cell_type": "code",
   "execution_count": null,
   "metadata": {
    "id": "J-PUa8efZku1"
   },
   "outputs": [],
   "source": [
    " # max_inter 매개변수 값을 50으로 늘려주었더니 ConvergenceWarning 경고가 사라짐"
   ]
  },
  {
   "cell_type": "code",
   "execution_count": 9,
   "metadata": {
    "colab": {
     "base_uri": "https://localhost:8080/"
    },
    "id": "duwA4N3eSUk5",
    "outputId": "0717bdf6-befb-40ec-b1d1-4dbfb70dacad"
   },
   "outputs": [
    {
     "name": "stdout",
     "output_type": "stream",
     "text": [
      "0.907563025210084\n",
      "0.925\n"
     ]
    }
   ],
   "source": [
    "sc.partial_fit(train_scaled, train_target)  # SGDClassifier객체를 다시 만들지 않고 훈련한 모델 sc를 추가로 훈련하기\n",
    "                                            # 위해서 partial_fit() 메서드를 사용\n",
    "print(sc.score(train_scaled, train_target)) # 훈련세트와 테스트 세트 정확도 점수 확인\n",
    "print(sc.score(test_scaled, test_target))"
   ]
  },
  {
   "cell_type": "code",
   "execution_count": null,
   "metadata": {
    "id": "KrgMB5ISa5Y0"
   },
   "outputs": [],
   "source": [
    "# 에포크를 더 실행을 통해 정확도가 향상됨, "
   ]
  },
  {
   "cell_type": "markdown",
   "metadata": {
    "id": "TEtfnUQhzKO2"
   },
   "source": [
    "## 에포크와 과대/과소적합"
   ]
  },
  {
   "cell_type": "code",
   "execution_count": 12,
   "metadata": {
    "id": "pt7BHZVZ-dWT"
   },
   "outputs": [],
   "source": [
    "import numpy as np    \n",
    "\n",
    "sc = SGDClassifier(loss='log', random_state=42)   \n",
    "\n",
    "train_score = []         # 에포크마다 훈련세트와 테스트 세트에 대한 점수를  기록하기 위해 2개의 리스트 준비\n",
    "test_score = []   \n",
    "                                   \n",
    "classes = np.unique(train_target)  # partial_fit 메서드만 사용하기 위해 np.unique 함수로 train_target에 있는 7개의 생선 목록을 만든다."
   ]
  },
  {
   "cell_type": "markdown",
   "metadata": {
    "id": "WvsE4eETd6zl"
   },
   "source": []
  },
  {
   "cell_type": "code",
   "execution_count": 13,
   "metadata": {
    "id": "-65Gz13tVOP7"
   },
   "outputs": [],
   "source": [
    "for _ in range(0, 300):       # 300번의 에포크 동안 훈련을 반복, '_'는 0에서 299까지 반복 횟수를 임시 저장하기 위한 용도로 사용\n",
    "    sc.partial_fit(train_scaled, train_target, classes=classes) # partial_fit 메서드만 사용하기 위해 훈련 세트에 있는 전체 클래스의 레이블을 partial_fit메서드에 전달해 주어야 한다.\n",
    "    train_score.append(sc.score(train_scaled, train_target))  #반복마다 훈련 세트와 테스트 세트의 점수를 계산, train_score와  test_score 리스트에 추가 \n",
    "    test_score.append(sc.score(test_scaled, test_target))"
   ]
  },
  {
   "cell_type": "code",
   "execution_count": 14,
   "metadata": {
    "colab": {
     "base_uri": "https://localhost:8080/",
     "height": 279
    },
    "id": "V19SzZJ5ZjSI",
    "outputId": "c2fe4a62-ee63-4e25-9057-7a6b562d2cbb"
   },
   "outputs": [
    {
     "data": {
      "image/png": "[encoded data removed]",
      "text/plain": [
       "<Figure size 432x288 with 1 Axes>"
      ]
     },
     "metadata": {
      "needs_background": "light"
     },
     "output_type": "display_data"
    }
   ],
   "source": [
    "import matplotlib.pyplot as plt   #300번의 에포크 동안 기록한 훈련세트와 테스트 세트의 점수를 그래프로 나타냄\n",
    "\n",
    "plt.plot(train_score)\n",
    "plt.plot(test_score)\n",
    "plt.xlabel('epoch')\n",
    "plt.ylabel('accuracy')\n",
    "plt.show()"
   ]
  },
  {
   "cell_type": "code",
   "execution_count": null,
   "metadata": {
    "id": "PNZK2BkQf8jg"
   },
   "outputs": [],
   "source": [
    "# 에포크 초기에는 과소적합되어 훈련 세트와 테스트 정확도가 낮으나, 백 번째 에포크 이후에는 훈련세트 정확도는 증가하나 테스트 세트는 정체되어 모델이 과대적합 가능성이 있어 보이므로,\n",
    "# 이 모델의 경우 백 번째 에포크가 적절한 반복횟수로 보인다."
   ]
  },
  {
   "cell_type": "code",
   "execution_count": 15,
   "metadata": {
    "colab": {
     "base_uri": "https://localhost:8080/"
    },
    "id": "pdp2Ykst1K_I",
    "outputId": "3e9341d4-4906-4f24-ada3-654433056b04"
   },
   "outputs": [
    {
     "name": "stdout",
     "output_type": "stream",
     "text": [
      "0.957983193277311\n",
      "0.925\n"
     ]
    }
   ],
   "source": [
    "sc = SGDClassifier(loss='log', max_iter=100, tol=None, random_state=42)  # 반복횟수를 100에 맞추고 모델을 다시 훈련\n",
    "sc.fit(train_scaled, train_target)                                       # tol 메개변수를 None으로 지정하여 자동으로 멈추지 않고 100만큼 무조건 반복하도록 함. (tol:종료 조건을 지정하는 변수)\n",
    "\n",
    "print(sc.score(train_scaled, train_target))\n",
    "print(sc.score(test_scaled, test_target))    #최종적으로 훈련 세트와 테스트 세트에서 점수 출력"
   ]
  },
  {
   "cell_type": "code",
   "execution_count": 16,
   "metadata": {
    "colab": {
     "base_uri": "https://localhost:8080/"
    },
    "id": "OL7-y1kgIP4S",
    "outputId": "234ffbef-7f4c-4e34-ef56-06eb62b815de"
   },
   "outputs": [
    {
     "name": "stdout",
     "output_type": "stream",
     "text": [
      "0.9495798319327731\n",
      "0.925\n"
     ]
    }
   ],
   "source": [
    "sc = SGDClassifier(loss='hinge', max_iter=100, tol=None, random_state=42) # loss 매게변수의 기본값은 hinge\n",
    "sc.fit(train_scaled, train_target)                      # 힌지 손실은 서포트 벡터머신이라 불리는 또 다른 머신러닝 알고리즘을 위한 손실함수\n",
    "                                                        # SGDClassifier는 여러 정류의 손실 함수를 loss 매개변수에 지정하여 다양한 머신러닝 알고리즘을 지원\n",
    "print(sc.score(train_scaled, train_target))            \n",
    "print(sc.score(test_scaled, test_target))"
   ]
  }
 ],
 "metadata": {
  "colab": {
   "collapsed_sections": [],
   "name": "4-2 확률적 경사 하강법.ipynb",
   "provenance": []
  },
  "kernelspec": {
   "display_name": "Python 3 (ipykernel)",
   "language": "python",
   "name": "python3"
  },
  "language_info": {
   "codemirror_mode": {
    "name": "ipython",
    "version": 3
   },
   "file_extension": ".py",
   "mimetype": "text/x-python",
   "name": "python",
   "nbconvert_exporter": "python",
   "pygments_lexer": "ipython3",
   "version": "3.9.7"
  }
 },
 "nbformat": 4,
 "nbformat_minor": 4
}
